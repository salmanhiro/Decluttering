{
 "cells": [
  {
   "cell_type": "code",
   "execution_count": 1,
   "metadata": {},
   "outputs": [],
   "source": [
    "import cv2\n",
    "import numpy as np\n",
    "import matplotlib.pyplot as plt"
   ]
  },
  {
   "cell_type": "code",
   "execution_count": 2,
   "metadata": {},
   "outputs": [],
   "source": [
    "#dataset training, terdiri dari matriks berukuran 25*2\n",
    "#angka random dari 0-99 sebagai koordinat x dan y\n",
    "train = np.random.randint(0,100,(25,2)).astype(np.float32)"
   ]
  },
  {
   "cell_type": "code",
   "execution_count": 3,
   "metadata": {},
   "outputs": [
    {
     "data": {
      "text/plain": [
       "array([[73., 84.],\n",
       "       [63., 48.],\n",
       "       [26., 38.],\n",
       "       [23., 52.],\n",
       "       [45., 11.],\n",
       "       [18., 64.],\n",
       "       [38., 59.],\n",
       "       [20., 46.],\n",
       "       [77., 73.],\n",
       "       [45., 53.],\n",
       "       [54., 34.],\n",
       "       [ 5., 79.],\n",
       "       [67., 12.],\n",
       "       [ 0., 44.],\n",
       "       [ 3., 62.],\n",
       "       [56., 33.],\n",
       "       [66., 64.],\n",
       "       [56., 25.],\n",
       "       [ 1., 13.],\n",
       "       [88., 64.],\n",
       "       [14., 98.],\n",
       "       [73., 56.],\n",
       "       [67., 78.],\n",
       "       [12., 71.],\n",
       "       [71., 81.]], dtype=float32)"
      ]
     },
     "execution_count": 3,
     "metadata": {},
     "output_type": "execute_result"
    }
   ],
   "source": [
    "#melihat data train\n",
    "train"
   ]
  },
  {
   "cell_type": "code",
   "execution_count": 29,
   "metadata": {},
   "outputs": [
    {
     "data": {
      "text/plain": [
       "array([[1.],\n",
       "       [1.],\n",
       "       [0.],\n",
       "       [0.],\n",
       "       [0.],\n",
       "       [1.],\n",
       "       [0.],\n",
       "       [0.],\n",
       "       [1.],\n",
       "       [0.],\n",
       "       [1.],\n",
       "       [0.],\n",
       "       [1.],\n",
       "       [0.],\n",
       "       [1.],\n",
       "       [0.],\n",
       "       [0.],\n",
       "       [0.],\n",
       "       [0.],\n",
       "       [0.],\n",
       "       [1.],\n",
       "       [1.],\n",
       "       [0.],\n",
       "       [1.],\n",
       "       [1.]], dtype=float32)"
      ]
     },
     "execution_count": 29,
     "metadata": {},
     "output_type": "execute_result"
    }
   ],
   "source": [
    "#pembuatan label untuk tiap data, yaitu 0 dan 1\n",
    "label = np.random.randint(0,2,(25,1)).astype(np.float32)\n",
    "label"
   ]
  },
  {
   "cell_type": "code",
   "execution_count": 5,
   "metadata": {},
   "outputs": [
    {
     "data": {
      "image/png": "[encoded data removed]",
      "text/plain": [
       "<matplotlib.figure.Figure at 0x1f79ce60470>"
      ]
     },
     "metadata": {
      "needs_background": "light"
     },
     "output_type": "display_data"
    }
   ],
   "source": [
    "#plot data  berlabel 0 dngan warna merah dan tanda +\n",
    "\n",
    "red = train[label.ravel()==0]\n",
    "plt.scatter(red[:,0], red[:,1], 50,'r', '+')\n",
    "\n",
    "#plot data  berlabel 1 dngan warna biru dan titik\n",
    "blue = train[label.ravel()==1]\n",
    "plt.scatter(blue[:,0], blue[:,1], 100,'b', '.')\n",
    "plt.show()"
   ]
  },
  {
   "cell_type": "code",
   "execution_count": 8,
   "metadata": {},
   "outputs": [
    {
     "data": {
      "text/plain": [
       "<matplotlib.collections.PathCollection at 0x1f79d04fc88>"
      ]
     },
     "execution_count": 8,
     "metadata": {},
     "output_type": "execute_result"
    },
    {
     "data": {
      "image/png": "[encoded data removed]",
      "text/plain": [
       "<matplotlib.figure.Figure at 0x1f79b9b5908>"
      ]
     },
     "metadata": {
      "needs_background": "light"
     },
     "output_type": "display_data"
    }
   ],
   "source": [
    "# Data baru\n",
    "\n",
    "new = np.random.randint(0,100,(1,2)).astype(np.float32)\n",
    "plt.scatter(new[:,0], new[:,1], 50, 'g', '*')"
   ]
  },
  {
   "cell_type": "code",
   "execution_count": 10,
   "metadata": {},
   "outputs": [
    {
     "data": {
      "image/png": "[encoded data removed]",
      "text/plain": [
       "<matplotlib.figure.Figure at 0x1f79d133ba8>"
      ]
     },
     "metadata": {
      "needs_background": "light"
     },
     "output_type": "display_data"
    }
   ],
   "source": [
    "#plot data  berlabel 0 dngan warna merah dan tanda +\n",
    "\n",
    "red = train[label.ravel()==0]\n",
    "plt.scatter(red[:,0], red[:,1], 50,'r', '+')\n",
    "\n",
    "#plot data  berlabel 1 dngan warna biru dan titik\n",
    "blue = train[label.ravel()==1]\n",
    "plt.scatter(blue[:,0], blue[:,1], 100,'b', '.')\n",
    "\n",
    "#data baru berwarna hijau dan bentuk *\n",
    "new = np.random.randint(0,100,(1,2)).astype(np.float32)\n",
    "plt.scatter(new[:,0], new[:,1], 50, 'g', '*')\n",
    "\n",
    "plt.show()"
   ]
  },
  {
   "cell_type": "code",
   "execution_count": 23,
   "metadata": {},
   "outputs": [
    {
     "data": {
      "text/plain": [
       "True"
      ]
     },
     "execution_count": 23,
     "metadata": {},
     "output_type": "execute_result"
    }
   ],
   "source": [
    "# melakukan machine learning untuk menggolongkan data baru\n",
    "# apakah data baru tersebut seharusnya merah atau biru?\n",
    "\n",
    "knn = cv2.ml.KNearest_create()\n",
    "knn.train(train, cv2.ml.ROW_SAMPLE, label)"
   ]
  },
  {
   "cell_type": "code",
   "execution_count": 26,
   "metadata": {},
   "outputs": [],
   "source": [
    "ret, results, neighbours ,dist = knn.findNearest(new, 3)"
   ]
  },
  {
   "cell_type": "code",
   "execution_count": 28,
   "metadata": {},
   "outputs": [
    {
     "name": "stdout",
     "output_type": "stream",
     "text": [
      "result:  [[1.]] \n",
      "\n",
      "neighbours:  [[1. 1. 0.]] \n",
      "\n",
      "distance:  [[405. 409. 425.]]\n"
     ]
    }
   ],
   "source": [
    "print (\"result: \", results,\"\\n\")\n",
    "print (\"neighbours: \", neighbours,\"\\n\")\n",
    "print (\"distance: \", dist)"
   ]
  },
  {
   "cell_type": "code",
   "execution_count": null,
   "metadata": {},
   "outputs": [],
   "source": []
  }
 ],
 "metadata": {
  "kernelspec": {
   "display_name": "Python 3",
   "language": "python",
   "name": "python3"
  },
  "language_info": {
   "codemirror_mode": {
    "name": "ipython",
    "version": 3
   },
   "file_extension": ".py",
   "mimetype": "text/x-python",
   "name": "python",
   "nbconvert_exporter": "python",
   "pygments_lexer": "ipython3",
   "version": "3.6.4"
  }
 },
 "nbformat": 4,
 "nbformat_minor": 2
}
