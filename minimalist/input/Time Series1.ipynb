{
 "cells": [
  {
   "cell_type": "markdown",
   "metadata": {},
   "source": [
    "<p style=\"font-family:Times;font-size:150%; text-align:left\"> <font color='red'>Time Series: Pemodelan pergerakan harga saham dengan Deep Learning</font></p>\n",
    "\n",
    "> Ini contoh penggunaan data time series di dalam Deep Learning. Kali ini time series yang dimodelkan adalah data pergerakan harga saham yang terdiri dari 250 observasi. Pemodelan ini dirancang untuk menghasilkan prediksi. Kali ini digunakan model yang relatif masih sederhana dan hasil prediksinya masih perlu ditinjau dengan kajian yang lebih seksama. Namun demikian model ini akan tetapi bermanfaat untuk mengantarkan kita ke arah pemodelan Recurrent Neural Network (RNN).\n",
    "\n",
    ">Kesederhanaan model membuat seseorang akan mudah terpancing untuk membawa ke arah model Deep Learning yang lebih kompleks. Namun semakin kompleks model Deep Learning maka akan semakin mudah ia akan mengalami overfitting: yaitu performance model sewaktu training jauh lebih baik dibanding dengan performance model sewaktu test. Bila ini terjadi maka perlu dilakukan tindakan penggunan regularisasi L1 atau L2.\n",
    "\n",
    "Prepared by M. Syamsuddin, Prodi Matematika - FMIPA ITB, 02/March/2020"
   ]
  },
  {
   "cell_type": "code",
   "execution_count": 1,
   "metadata": {},
   "outputs": [],
   "source": [
    "import numpy as np\n",
    "from numpy import *\n",
    "from numpy.random import *\n",
    "import matplotlib.pyplot as plt\n",
    "from datetime import datetime\n",
    "import pickle\n",
    "\n",
    "%matplotlib inline"
   ]
  },
  {
   "cell_type": "code",
   "execution_count": 2,
   "metadata": {},
   "outputs": [
    {
     "data": {
      "image/png": "[encoded data removed]",
      "text/plain": [
       "<Figure size 432x288 with 1 Axes>"
      ]
     },
     "metadata": {
      "needs_background": "light"
     },
     "output_type": "display_data"
    }
   ],
   "source": [
    "x = pickle.load(open(\"HargaSaham.dat\", \"rb\"))   #Ini data harga saham sebanyak 250 observasi.\n",
    "N = x.shape[0]\n",
    "\n",
    "plt.plot(x)\n",
    "plt.show()\n",
    "\n",
    "xs = (x-x.min())/(x.max()-x.min())   #Datanya distandardisasikan dulu\n",
    "\n",
    "step = 3   #Di literatur Time Series digunakan istilah 'lag' sebagai padanan istilah 'step' ini\n",
    "xt = xs[0:N-step,:]\n",
    "for i in range(step):\n",
    "    xt = hstack((xt, xs[i+1:N-step+i+1]))   #Dihasilkan matriks dengan 4 kolom, #tiga kolom pertama\n",
    "                                            #menjadi variabel X dan kolom terkhir menjadi variabel y\n",
    "\n",
    "X = xt[:, 0:step]       #Tiga kolom pertama dijadikan sebagai varibel X\n",
    "y = xt[:, step:step+1]  #Kolom terakhir dijadikan sebagai variabel y\n"
   ]
  },
  {
   "cell_type": "code",
   "execution_count": 3,
   "metadata": {},
   "outputs": [],
   "source": [
    "class NeuralNetwork:\n",
    "    \n",
    "    def __init__(self,x,y,h1,h2): # ada h nodes di dalam hidden layer\n",
    "        self.X   = x #input\n",
    "        self.y   = y #output\n",
    "        \n",
    "        self.N   = x.shape[0] #jumlah observasi (samples, examples)\n",
    "        Ni       = x.shape[1] #jumlah features (variables)\n",
    "        No       = y.shape[1] \n",
    "        \n",
    "        self.W0  = randn(Ni,h1) #nilai awal buat W dari layer 0 (input layer)\n",
    "        self.b0  = zeros([1,h1]) #nilai awal buat b dari layer 0 (hidden layer)\n",
    "        \n",
    "        self.W1  = randn(h1,h2) #nilai awal buat W dari layer 1 (hidden layer)\n",
    "        self.b1  = zeros([1,h2]) #nilai awal buat b dari layer 1 (hidden layer)\n",
    "\n",
    "        self.W2  = randn(h2,No) #nilai awal buat W dari layer 2 (output layer)\n",
    "        self.b2  = zeros([1,No]) #nilai awal buat b dari layer 2 (output layer)\n",
    "        \n",
    "    def forward(self):\n",
    "        Z1       = self.X@self.W0 + self.b0\n",
    "        self.A1  = 1/(1 + exp(-Z1))\n",
    "        \n",
    "        Z2       = self.A1@self.W1 + self.b1\n",
    "        self.A2  = 1/(1 + exp(-Z2))\n",
    "        \n",
    "        Z3       = self.A2@self.W2 + self.b2\n",
    "        self.A3  = 1/(1 + exp(-Z3))\n",
    "        \n",
    "        return self.A3\n",
    "        \n",
    "    def backward(self):\n",
    "        alpha    = 0.1\n",
    "        e        = self.y - self.A3\n",
    "        \n",
    "        delta3   = -e*self.A3*(1 - self.A3) #dC/dZ3\n",
    "        delta2   = delta3@self.W2.T*self.A2*(1 - self.A2) #dC/dZ2\n",
    "        delta1   = delta2@self.W1.T*self.A1*(1 - self.A1) #dC/dZ1\n",
    "    \n",
    "        self.W2 -= alpha*self.A2.T@delta3\n",
    "        self.b2 -= alpha*sum(ones([self.N,1]).T@delta3)\n",
    "        \n",
    "        self.W1 -= alpha*self.A1.T@delta2\n",
    "        self.b1 -= alpha*ones([self.N,1]).T@delta2\n",
    "        \n",
    "        self.W0 -= alpha*self.X.T@delta1\n",
    "        self.b0 -= alpha*ones([self.N,1]).T@delta1\n",
    "\n",
    "    def train(self):\n",
    "        self.forward()  #forward propagation\n",
    "        self.backward() #backward propagation"
   ]
  },
  {
   "cell_type": "code",
   "execution_count": 5,
   "metadata": {},
   "outputs": [
    {
     "name": "stdout",
     "output_type": "stream",
     "text": [
      "Iteration #: 0 , Akurasi prediksi diukur dengan MSE: 0.0937272\n",
      "Iteration #: 2500 , Akurasi prediksi diukur dengan MSE: 0.0032788\n",
      "Iteration #: 5000 , Akurasi prediksi diukur dengan MSE: 0.0029954\n",
      "Iteration #: 7500 , Akurasi prediksi diukur dengan MSE: 0.0029236\n",
      "Iteration #: 10000 , Akurasi prediksi diukur dengan MSE: 0.0028817\n",
      "Iteration #: 12500 , Akurasi prediksi diukur dengan MSE: 0.0028519\n",
      "Iteration #: 15000 , Akurasi prediksi diukur dengan MSE: 0.0028290\n",
      "Iteration #: 17500 , Akurasi prediksi diukur dengan MSE: 0.0028102\n",
      "Iteration #: 20000 , Akurasi prediksi diukur dengan MSE: 0.0027941\n",
      "Iteration #: 22500 , Akurasi prediksi diukur dengan MSE: 0.0027800\n",
      "Iteration #: 25000 , Akurasi prediksi diukur dengan MSE: 0.0027673\n"
     ]
    }
   ],
   "source": [
    "H1  = 10  #ada H1 nodes (neurons) di dalam hidden layer pertama\n",
    "H2  = 10  #ada H2 nodes (neurons) di dalam hidden layer pertama\n",
    "\n",
    "epochs = 25001 #lakukan latihan sebanyak epochs kali\n",
    "seed(2020) #seed untuk bilangan acak\n",
    "\n",
    "ann = NeuralNetwork(X,y,H1,H2)\n",
    "\n",
    "for i in range(epochs): \n",
    "    \n",
    "    if i % 2500 == 0: \n",
    "        print (\"Iteration #:\",i,', ',end = \"\")\n",
    "        #print (\"Predicted Output: \\n\", str(ann.forward()))\n",
    "        \n",
    "        ycap = ann.forward()\n",
    "        cost = (y-ycap).T@(y-ycap)/N #Mean Squared Error (MSE) atau cost function\n",
    "        \n",
    "        print (\"Akurasi prediksi diukur dengan MSE: %9.7f\" %cost[0][0]) # \n",
    "        #print (\"\\n\")\n",
    "\n",
    "    ann.train()"
   ]
  }
 ],
 "metadata": {
  "kernelspec": {
   "display_name": "Python 3",
   "language": "python",
   "name": "python3"
  },
  "language_info": {
   "codemirror_mode": {
    "name": "ipython",
    "version": 3
   },
   "file_extension": ".py",
   "mimetype": "text/x-python",
   "name": "python",
   "nbconvert_exporter": "python",
   "pygments_lexer": "ipython3",
   "version": "3.7.4"
  }
 },
 "nbformat": 4,
 "nbformat_minor": 4
}
